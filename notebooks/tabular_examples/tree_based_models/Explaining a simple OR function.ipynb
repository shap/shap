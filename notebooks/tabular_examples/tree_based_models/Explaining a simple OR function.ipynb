{
 "cells": [
  {
   "cell_type": "markdown",
   "metadata": {},
   "source": [
    "# Explaining a simple OR function\n",
    "\n",
    "This notebook examines what it looks like to explain an OR function using SHAP values.\n",
    "Through this example, we understand how changing the background distribution affects the explanations you obtain from your [TreeExplainer][tree_doclink].\n",
    "\n",
    "[tree_doclink]: ../../../generated/shap.TreeExplainer.rst#shap.TreeExplainer\n",
    "\n",
    "It is based on a simple example with two features `is_young` and `is_female`, roughly motivated by the Titanic survival dataset where women and children were given priority during the evacuation and so were more likely to survive. In this simulated example, this effect is taken to the extreme, where all children and women survive and no adult men survive."
   ]
  },
  {
   "cell_type": "code",
   "execution_count": 1,
   "metadata": {},
   "outputs": [],
   "source": [
    "import numpy as np\n",
    "import pandas as pd\n",
    "import xgboost\n",
    "from IPython.display import display\n",
    "\n",
    "import shap\n",
    "\n",
    "rng = np.random.default_rng(42)"
   ]
  },
  {
   "cell_type": "markdown",
   "metadata": {},
   "source": [
    "## Create a dataset following an OR function"
   ]
  },
  {
   "cell_type": "code",
   "execution_count": 2,
   "metadata": {},
   "outputs": [
    {
     "data": {
      "text/html": [
       "<div>\n",
       "<style scoped>\n",
       "    .dataframe tbody tr th:only-of-type {\n",
       "        vertical-align: middle;\n",
       "    }\n",
       "\n",
       "    .dataframe tbody tr th {\n",
       "        vertical-align: top;\n",
       "    }\n",
       "\n",
       "    .dataframe thead th {\n",
       "        text-align: right;\n",
       "    }\n",
       "</style>\n",
       "<table border=\"1\" class=\"dataframe\">\n",
       "  <thead>\n",
       "    <tr style=\"text-align: right;\">\n",
       "      <th></th>\n",
       "      <th>is_young</th>\n",
       "      <th>is_female</th>\n",
       "    </tr>\n",
       "  </thead>\n",
       "  <tbody>\n",
       "    <tr>\n",
       "      <th>0</th>\n",
       "      <td>1</td>\n",
       "      <td>0</td>\n",
       "    </tr>\n",
       "    <tr>\n",
       "      <th>1</th>\n",
       "      <td>1</td>\n",
       "      <td>1</td>\n",
       "    </tr>\n",
       "    <tr>\n",
       "      <th>2</th>\n",
       "      <td>0</td>\n",
       "      <td>0</td>\n",
       "    </tr>\n",
       "  </tbody>\n",
       "</table>\n",
       "</div>"
      ],
      "text/plain": [
       "   is_young  is_female\n",
       "0         1          0\n",
       "1         1          1\n",
       "2         0          0"
      ]
     },
     "metadata": {},
     "output_type": "display_data"
    }
   ],
   "source": [
    "N = 40_000\n",
    "M = 2\n",
    "\n",
    "# randomly create binary features for `is_young` and `is_female`\n",
    "X = (rng.standard_normal(size=(N, 2)) > 0) * 1\n",
    "X = pd.DataFrame(X, columns=[\"is_young\", \"is_female\"])\n",
    "\n",
    "# force the first sample to be a young boy\n",
    "X.loc[0, :] = [1, 0]\n",
    "display(X.head(3))\n",
    "\n",
    "# you survive (y=1) only if you are young or female\n",
    "y = ((X.loc[:, \"is_young\"] + X.loc[:, \"is_female\"]).to_numpy() > 0) * 1"
   ]
  },
  {
   "cell_type": "markdown",
   "metadata": {},
   "source": [
    "## Train an XGBoost model to mimic this OR function"
   ]
  },
  {
   "cell_type": "code",
   "execution_count": 3,
   "metadata": {},
   "outputs": [
    {
     "data": {
      "text/plain": [
       "array([9.9998671e-01, 9.9998671e-01, 1.3295135e-05, ..., 9.9998671e-01,\n",
       "       9.9998671e-01, 9.9998671e-01], dtype=float32)"
      ]
     },
     "execution_count": 3,
     "metadata": {},
     "output_type": "execute_result"
    }
   ],
   "source": [
    "model = xgboost.XGBRegressor(n_estimators=100, learning_rate=0.1, random_state=3)\n",
    "model.fit(X, y)\n",
    "model.predict(X)"
   ]
  },
  {
   "cell_type": "markdown",
   "metadata": {},
   "source": [
    "## Explain the prediction for a young boy\n",
    "\n",
    "### Using the training set for the background distribution\n",
    "\n",
    "Note that in the example explanation below, `is_young = True` has a positive value (meaning it increases the model output, and hence the prediction of survival), while `is_female = False` has a negative value (meaning it decreases the model output). While one could argue that `is_female = False` should have no impact because we already know that the person is young, SHAP values account for the impact a feature has even when we don't necessarily know the other features, which is why `is_female = False` still has a negative impact on the prediction."
   ]
  },
  {
   "cell_type": "code",
   "execution_count": 4,
   "metadata": {},
   "outputs": [
    {
     "name": "stdout",
     "output_type": "stream",
     "text": [
      "explainer.expected_value: 0.7600\n",
      "SHAP values for (is_young = True, is_female = False): [ 0.385 -0.145]\n",
      "model output: 1.0\n"
     ]
    }
   ],
   "source": [
    "explainer = shap.TreeExplainer(model, X, feature_perturbation=\"interventional\")\n",
    "explanation = explainer(X.loc[[0], :])\n",
    "\n",
    "# for the young boy:\n",
    "expected_value = explanation.base_values[0]\n",
    "shap_values = explanation.values[0]\n",
    "\n",
    "print(f\"explainer.expected_value: {expected_value:.4f}\")\n",
    "print(f\"SHAP values for (is_young = True, is_female = False): {shap_values.round(4)}\")\n",
    "print(\"model output:\", (expected_value + shap_values.sum()).round(4))"
   ]
  },
  {
   "cell_type": "markdown",
   "metadata": {},
   "source": [
    "The same information above, but visualized as a Waterfall plot:"
   ]
  },
  {
   "cell_type": "code",
   "execution_count": 5,
   "metadata": {},
   "outputs": [
    {
     "data": {
      "image/png": "[encoded data removed]",
      "text/plain": [
       "<Figure size 800x250 with 3 Axes>"
      ]
     },
     "metadata": {},
     "output_type": "display_data"
    }
   ],
   "source": [
    "# waterfall plot for the young boy (background distribution => training set)\n",
    "shap.plots.waterfall(explanation[0])"
   ]
  },
  {
   "cell_type": "markdown",
   "metadata": {},
   "source": [
    "### Using only negative examples for the background distribution\n",
    "\n",
    "The point of this second explanation example is to demonstrate how using a different background distribution can change the allocation of credit among the input features. This happens because we are now comparing the importance of a feature as compared to being someone who died (an adult man). The only thing different about the young boy from someone who died is that the boy is young, so all the credit goes to the `is_young = True` feature.\n",
    "\n",
    "This highlights that often explanations are clearer when a well-defined background group is used.\n",
    "In this case, it changes the explanation from \"how this sample is different than typical\", to \"how this sample is different from those who died\" (in other words, why did you live?)."
   ]
  },
  {
   "cell_type": "code",
   "execution_count": 6,
   "metadata": {},
   "outputs": [
    {
     "name": "stdout",
     "output_type": "stream",
     "text": [
      "explainer.expected_value: 0.0000\n",
      "SHAP values for (is_young = True, is_female = False): [1. 0.]\n",
      "model output: 1.0\n"
     ]
    }
   ],
   "source": [
    "explainer = shap.TreeExplainer(\n",
    "    model,\n",
    "    X.loc[y == 0, :],  # background distribution => non-survival\n",
    "    feature_perturbation=\"interventional\",\n",
    ")\n",
    "explanation = explainer(X.loc[[0], :])\n",
    "\n",
    "# for the young boy:\n",
    "expected_value = explanation.base_values[0]\n",
    "shap_values = explanation.values[0]\n",
    "\n",
    "print(f\"explainer.expected_value: {expected_value:.4f}\")\n",
    "print(f\"SHAP values for (is_young = True, is_female = False): {shap_values.round(4)}\")\n",
    "print(\"model output:\", (expected_value + shap_values.sum()).round(4))"
   ]
  },
  {
   "cell_type": "code",
   "execution_count": 7,
   "metadata": {},
   "outputs": [
    {
     "data": {
      "image/png": "[encoded data removed]",
      "text/plain": [
       "<Figure size 800x250 with 3 Axes>"
      ]
     },
     "metadata": {},
     "output_type": "display_data"
    }
   ],
   "source": [
    "# waterfall plot for the young boy (background distribution => non-survival)\n",
    "shap.plots.waterfall(explanation[0])"
   ]
  },
  {
   "cell_type": "markdown",
   "metadata": {},
   "source": [
    "### Using only positive examples for the background distribution\n",
    "\n",
    "We could also use only positive examples for our background distribution, and since the difference between the expected output of the model (under our background distribution) and the current output for the young boy is zero, the sum of the SHAP values will be also be zero."
   ]
  },
  {
   "cell_type": "code",
   "execution_count": 8,
   "metadata": {},
   "outputs": [
    {
     "name": "stdout",
     "output_type": "stream",
     "text": [
      "explainer.expected_value: 1.0000\n",
      "SHAP values for (is_young = True, is_female = False): [ 0.14 -0.14]\n",
      "model output: 1.0\n"
     ]
    }
   ],
   "source": [
    "explainer = shap.TreeExplainer(\n",
    "    model,\n",
    "    X.loc[y == 1, :],  # background distribution => survival\n",
    "    feature_perturbation=\"interventional\",\n",
    ")\n",
    "explanation = explainer(X.loc[[0], :])\n",
    "\n",
    "# for the young boy:\n",
    "expected_value = explanation.base_values[0]\n",
    "shap_values = explanation.values[0]\n",
    "\n",
    "print(f\"explainer.expected_value: {expected_value:.4f}\")\n",
    "print(f\"SHAP values for (is_young = True, is_female = False): {shap_values.round(4)}\")\n",
    "print(\"model output:\", (expected_value + shap_values.sum()).round(4))"
   ]
  },
  {
   "cell_type": "code",
   "execution_count": 9,
   "metadata": {},
   "outputs": [
    {
     "data": {
      "image/png": "[encoded data removed]",
      "text/plain": [
       "<Figure size 800x250 with 3 Axes>"
      ]
     },
     "metadata": {},
     "output_type": "display_data"
    }
   ],
   "source": [
    "# waterfall plot for the young boy (background distribution => survival)\n",
    "shap.plots.waterfall(explanation[0])"
   ]
  },
  {
   "cell_type": "markdown",
   "metadata": {},
   "source": [
    "### Using young women for the background distribution\n",
    "\n",
    "If we compare the sample to young women, then neither of the features matter except for adult men (`data=(0, 0)`), in which both features are given equal credit for their death (as one might intuitively expect)."
   ]
  },
  {
   "cell_type": "code",
   "execution_count": 10,
   "metadata": {},
   "outputs": [
    {
     "name": "stdout",
     "output_type": "stream",
     "text": [
      "Feature data:\n"
     ]
    },
    {
     "data": {
      "text/plain": [
       "array([[1, 0],\n",
       "       [1, 1],\n",
       "       [0, 0]])"
      ]
     },
     "metadata": {},
     "output_type": "display_data"
    },
    {
     "name": "stdout",
     "output_type": "stream",
     "text": [
      "\n",
      "SHAP values:\n"
     ]
    },
    {
     "data": {
      "text/plain": [
       "array([[ 0. , -0. ],\n",
       "       [ 0. ,  0. ],\n",
       "       [-0.5, -0.5]])"
      ]
     },
     "metadata": {},
     "output_type": "display_data"
    }
   ],
   "source": [
    "explainer = shap.TreeExplainer(\n",
    "    model,\n",
    "    np.ones((1, M)),  # background distribution => all young women\n",
    "    feature_perturbation=\"interventional\",\n",
    ")\n",
    "explanation = explainer(X.head(3))\n",
    "\n",
    "print(\"Feature data:\")\n",
    "display(explanation.data)\n",
    "print()\n",
    "print(\"SHAP values:\")\n",
    "display(explanation.values.round(4))"
   ]
  }
 ],
 "metadata": {
  "kernelspec": {
   "display_name": "shap",
   "language": "python",
   "name": "shap"
  },
  "language_info": {
   "codemirror_mode": {
    "name": "ipython",
    "version": 3
   },
   "file_extension": ".py",
   "mimetype": "text/x-python",
   "name": "python",
   "nbconvert_exporter": "python",
   "pygments_lexer": "ipython3",
   "version": "3.10.10"
  }
 },
 "nbformat": 4,
 "nbformat_minor": 4
}
