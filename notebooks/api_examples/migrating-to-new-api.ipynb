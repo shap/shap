{
 "cells": [
  {
   "cell_type": "markdown",
   "metadata": {},
   "source": [
    "# Migrating to the new \"Explanation\" API\n",
    "\n",
    "This notebook explains some of the differences between the old- and new-style shap API.\n",
    "\n",
    "In short:\n",
    "\n",
    "```python\n",
    "shap_values = explainer.shap_values(X)  # Old style\n",
    "shap_values = explainer(X)              # New style\n",
    "```"
   ]
  },
  {
   "cell_type": "code",
   "execution_count": 1,
   "metadata": {},
   "outputs": [],
   "source": [
    "# Create an example dataset and model\n",
    "import xgboost\n",
    "\n",
    "import shap\n",
    "\n",
    "X, y = shap.datasets.adult(n_points=100)\n",
    "model = xgboost.XGBClassifier().fit(X, y)\n",
    "explainer = shap.TreeExplainer(model, X)"
   ]
  },
  {
   "cell_type": "markdown",
   "metadata": {},
   "source": [
    "In older versions of shap, explanations are represented as simple numpy arrays and\n",
    "calculated using the `.shap_values()` method:"
   ]
  },
  {
   "cell_type": "code",
   "execution_count": 2,
   "metadata": {},
   "outputs": [
    {
     "data": {
      "text/plain": [
       "array([[-0.54854601,  0.01639348, -0.46476041,  0.85896822, -1.36168788,\n",
       "        -0.64692199,  0.0254638 , -0.58422904, -0.02344483,  0.        ,\n",
       "         0.1224989 ,  0.01079906],\n",
       "       [-0.83802091,  0.01562196,  0.78349799, -1.10456323, -0.68524691,\n",
       "        -0.84828204,  0.03734176, -0.86151311, -0.02564897,  0.        ,\n",
       "        -0.56183428,  0.00415988]])"
      ]
     },
     "execution_count": 2,
     "metadata": {},
     "output_type": "execute_result"
    }
   ],
   "source": [
    "shap_values = explainer.shap_values(X)\n",
    "shap_values[:2]  # a numpy array"
   ]
  },
  {
   "cell_type": "markdown",
   "metadata": {},
   "source": [
    "In newer versions of shap, explanations are represented with the `Explanation` object,\n",
    "and are created by calling the explainer directly:"
   ]
  },
  {
   "cell_type": "code",
   "execution_count": 3,
   "metadata": {},
   "outputs": [
    {
     "data": {
      "text/plain": [
       ".values =\n",
       "array([[-0.54854601,  0.01639348, -0.46476041,  0.85896822, -1.36168788,\n",
       "        -0.64692199,  0.0254638 , -0.58422904, -0.02344483,  0.        ,\n",
       "         0.1224989 ,  0.01079906],\n",
       "       [-0.83802091,  0.01562196,  0.78349799, -1.10456323, -0.68524691,\n",
       "        -0.84828204,  0.03734176, -0.86151311, -0.02564897,  0.        ,\n",
       "        -0.56183428,  0.00415988]])\n",
       "\n",
       ".base_values =\n",
       "array([-2.70354599, -2.70354599])\n",
       "\n",
       ".data =\n",
       "array([[27.,  4., 10.,  0.,  1.,  1.,  4.,  0.,  0.,  0., 44., 39.],\n",
       "       [27.,  4., 13.,  4., 10.,  0.,  4.,  0.,  0.,  0., 40., 39.]])"
      ]
     },
     "execution_count": 3,
     "metadata": {},
     "output_type": "execute_result"
    }
   ],
   "source": [
    "shap_values = explainer(X)\n",
    "shap_values[:2]  # a shap.Explanation"
   ]
  },
  {
   "cell_type": "markdown",
   "metadata": {},
   "source": [
    "The `Explanation` object tracks more information, such as the background dataset and the feature names.\n",
    "\n",
    "The new-style plotting functions like `shap.plots.beeswarm` require `Explanation` objections."
   ]
  }
 ],
 "metadata": {
  "kernelspec": {
   "display_name": "shap",
   "language": "python",
   "name": "python3"
  },
  "language_info": {
   "codemirror_mode": {
    "name": "ipython",
    "version": 3
   },
   "file_extension": ".py",
   "mimetype": "text/x-python",
   "name": "python",
   "nbconvert_exporter": "python",
   "pygments_lexer": "ipython3",
   "version": "3.11.9"
  }
 },
 "nbformat": 4,
 "nbformat_minor": 2
}
